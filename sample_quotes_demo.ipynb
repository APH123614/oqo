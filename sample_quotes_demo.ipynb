{
 "cells": [
  {
   "cell_type": "markdown",
   "id": "98f5135a",
   "metadata": {},
   "source": [
    "# Sample OQO Dataset Exploration\n",
    "\n",
    "This notebook demonstrates how to load and preview the anonymized sample dataset for the OQO quote specification. The dataset is stored in CSV format and includes 100 sample quote records.\n"
   ]
  },
  {
   "cell_type": "code",
   "execution_count": null,
   "id": "47499762",
   "metadata": {},
   "outputs": [],
   "source": [
    "import pandas as pd\n",
    "\n",
    "# Load the CSV dataset\n",
    "df = pd.read_csv('sample_quotes.csv')\n",
    "\n",
    "# Display basic information and preview\n",
    "df.info()\n",
    "\n",
    "df.head()"
   ]
  }
 ],
 "metadata": {},
 "nbformat": 4,
 "nbformat_minor": 5
}
